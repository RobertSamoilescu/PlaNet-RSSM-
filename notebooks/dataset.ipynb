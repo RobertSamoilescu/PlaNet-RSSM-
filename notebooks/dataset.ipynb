{
 "cells": [
  {
   "cell_type": "code",
   "execution_count": null,
   "metadata": {},
   "outputs": [],
   "source": [
    "import gym\n",
    "import torch.optim as optim\n",
    "\n",
    "from planet.models.determinstic_state import DeterministicStateModel\n",
    "from planet.models.stochastic_state import StochasticStateModel\n",
    "from planet.models.observation import ObservationModel\n",
    "from planet.models.reward import RewardModel\n",
    "from planet.models.encoder import EncoderModel\n",
    "from planet.trainer import train\n",
    "\n",
    "from planet.utils.wrappers import RepeatAction\n",
    "from planet.utils.seed import set_seed\n",
    "\n",
    "\n",
    "%load_ext autoreload\n",
    "%autoreload 2"
   ]
  },
  {
   "cell_type": "code",
   "execution_count": null,
   "metadata": {},
   "outputs": [],
   "source": [
    "# set seed for reproducibility\n",
    "set_seed(0)"
   ]
  },
  {
   "cell_type": "code",
   "execution_count": null,
   "metadata": {},
   "outputs": [],
   "source": [
    "# initialize the environment\n",
    "# env = gym.make(\"BipedalWalker-v3\", hardcore=False)\n",
    "# env = gym.make(\"Pendulum-v1\")\n",
    "env = RepeatAction(gym.make(\"LunarLander-v2\", continuous=True))"
   ]
  },
  {
   "cell_type": "code",
   "execution_count": null,
   "metadata": {},
   "outputs": [],
   "source": [
    "# observation info\n",
    "observation, info = env.reset()\n",
    "observation_size = observation.shape[0]\n",
    "\n",
    "# action info\n",
    "action = env.action_space.sample()\n",
    "action_size = action.shape[0]\n",
    "\n",
    "# model sizes\n",
    "state_size = 30\n",
    "hidden_state_size = 200\n",
    "hidden_layer_size = 300"
   ]
  },
  {
   "cell_type": "code",
   "execution_count": null,
   "metadata": {},
   "outputs": [],
   "source": [
    "det_state_model = DeterministicStateModel(\n",
    "    hidden_state_size=hidden_state_size,\n",
    "    state_size=state_size,\n",
    "    action_size=action_size,\n",
    ").cuda()"
   ]
  },
  {
   "cell_type": "code",
   "execution_count": null,
   "metadata": {},
   "outputs": [],
   "source": [
    "stoch_state_model = StochasticStateModel(\n",
    "    hidden_state_size=hidden_state_size,\n",
    "    state_size=state_size,\n",
    "    hidden_layer_size=hidden_layer_size,\n",
    ").cuda()"
   ]
  },
  {
   "cell_type": "code",
   "execution_count": null,
   "metadata": {},
   "outputs": [],
   "source": [
    "obs_model = ObservationModel(\n",
    "    hidden_state_size=hidden_state_size,\n",
    "    state_size=state_size,\n",
    "    observation_size=observation_size,\n",
    "    hidden_layer_size=hidden_layer_size,\n",
    ").cuda()"
   ]
  },
  {
   "cell_type": "code",
   "execution_count": null,
   "metadata": {},
   "outputs": [],
   "source": [
    "reward_obs_model = RewardModel(\n",
    "    hidden_state_size=hidden_state_size,\n",
    "    state_size=state_size,\n",
    "    hidden_layer_size=hidden_layer_size,\n",
    ").cuda()"
   ]
  },
  {
   "cell_type": "code",
   "execution_count": null,
   "metadata": {},
   "outputs": [],
   "source": [
    "enc_model = EncoderModel(\n",
    "    hidden_state_size=hidden_state_size,\n",
    "    observation_size=observation_size,\n",
    "    state_size=state_size,\n",
    "    hidden_layer_size=hidden_layer_size,\n",
    ").cuda()"
   ]
  },
  {
   "cell_type": "code",
   "execution_count": null,
   "metadata": {},
   "outputs": [],
   "source": [
    "models = {\n",
    "    \"det_state_model\": det_state_model,\n",
    "    \"stoch_state_model\": stoch_state_model,\n",
    "    \"obs_model\": obs_model,\n",
    "    \"reward_obs_model\": reward_obs_model,\n",
    "    \"enc_model\": enc_model,\n",
    "}\n",
    "\n",
    "\n",
    "lr = 1e-3\n",
    "eps = 1e-4\n",
    "optimizers = {\n",
    "    \"det_state_model\": optim.Adam(det_state_model.parameters(), lr=lr, eps=eps),\n",
    "    \"stoch_state_model\": optim.Adam(stoch_state_model.parameters(), lr=lr, eps=eps),\n",
    "    \"obs_model\": optim.Adam(obs_model.parameters(), lr=lr, eps=eps),\n",
    "    \"reward_obs_model\": optim.Adam(reward_obs_model.parameters(), lr=lr, eps=eps),\n",
    "    \"enc_model\": optim.Adam(enc_model.parameters(), lr=lr, eps=eps),\n",
    "}\n",
    "\n"
   ]
  },
  {
   "cell_type": "code",
   "execution_count": 13,
   "metadata": {},
   "outputs": [],
   "source": [
    "train(\n",
    "    env=env,\n",
    "    train_steps=10_000,\n",
    "    T=1000,\n",
    "    S=5,\n",
    "    C=100,\n",
    "    B=50,\n",
    "    L=50,\n",
    "    H=12,\n",
    "    I=10,\n",
    "    J=1000,\n",
    "    K=100,\n",
    "    models=models,\n",
    "    optimizers=optimizers,\n",
    "    hidden_state_size=hidden_state_size,\n",
    "    state_size=state_size,\n",
    "    action_size=action_size,\n",
    "    log_interval=1\n",
    ")"
   ]
  },
  {
   "cell_type": "code",
   "execution_count": null,
   "metadata": {},
   "outputs": [],
   "source": []
  }
 ],
 "metadata": {
  "kernelspec": {
   "display_name": "rl",
   "language": "python",
   "name": "python3"
  },
  "language_info": {
   "codemirror_mode": {
    "name": "ipython",
    "version": 3
   },
   "file_extension": ".py",
   "mimetype": "text/x-python",
   "name": "python",
   "nbconvert_exporter": "python",
   "pygments_lexer": "ipython3",
   "version": "3.10.14"
  }
 },
 "nbformat": 4,
 "nbformat_minor": 2
}
