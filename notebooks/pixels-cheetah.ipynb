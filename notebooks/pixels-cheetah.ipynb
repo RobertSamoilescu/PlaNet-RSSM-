{
 "cells": [
  {
   "cell_type": "code",
   "execution_count": 1,
   "metadata": {},
   "outputs": [],
   "source": [
    "import os\n",
    "os.environ['CUDA_VISIBLE_DEVICES'] = '1'\n",
    "\n",
    "import torch.optim as optim\n",
    "from planet.models.determinstic_state import DeterministicStateModel\n",
    "from planet.models.stochastic_state import StochasticStateModel\n",
    "from planet.models.reward import RewardModel\n",
    "from planet.models.encoder import ImageEncoderModel\n",
    "from planet.models.observation import ImageObservationModel\n",
    "from planet.trainer import PlanetTrainer\n",
    "\n",
    "from planet.utils.wrappers import RepeatActionWrapper, GymPixelWrapper, ImagePreprocessorWrapper\n",
    "from planet.utils.seed import set_seed\n",
    "from planet.utils.envs import make_env\n",
    "\n",
    "\n",
    "%load_ext autoreload\n",
    "%autoreload 2"
   ]
  },
  {
   "cell_type": "code",
   "execution_count": 2,
   "metadata": {},
   "outputs": [],
   "source": [
    "# set seed for reproducibility\n",
    "set_seed(0)"
   ]
  },
  {
   "cell_type": "code",
   "execution_count": 5,
   "metadata": {},
   "outputs": [],
   "source": [
    "env_config = {\n",
    "    \"env_type\": \"dm_control\",\n",
    "    \"domain_name\": \"cheetah\", \n",
    "    \"task_name\":\"run\", \n",
    "    \"render_kwargs\": {'width': 64, 'height': 64}\n",
    "}time_step = env.reset()\n",
    "print(time_step.observation)\n",
    "\n",
    "env = make_env(env_config)"
   ]
  },
  {
   "cell_type": "code",
   "execution_count": null,
   "metadata": {},
   "outputs": [],
   "source": [
    "# action info\n",
    "action = env.action_space.sample()\n",
    "action_size = action.shape[0]\n",
    "\n",
    "# model sizes\n",
    "state_size = 30\n",
    "hidden_state_size = 200\n",
    "observation_size = 1024\n",
    "hidden_layer_size = 300"
   ]
  },
  {
   "cell_type": "code",
   "execution_count": null,
   "metadata": {},
   "outputs": [],
   "source": [
    "det_state_model = DeterministicStateModel(\n",
    "    hidden_state_size=hidden_state_size,\n",
    "    state_size=state_size,\n",
    "    action_size=action_size,\n",
    "    hidden_layer_size=hidden_layer_size\n",
    ").cuda()"
   ]
  },
  {
   "cell_type": "code",
   "execution_count": null,
   "metadata": {},
   "outputs": [],
   "source": [
    "stoch_state_model = StochasticStateModel(\n",
    "    hidden_state_size=hidden_state_size,\n",
    "    state_size=state_size,\n",
    "    hidden_layer_size=hidden_layer_size,\n",
    ").cuda()"
   ]
  },
  {
   "cell_type": "code",
   "execution_count": null,
   "metadata": {},
   "outputs": [],
   "source": [
    "obs_model = ImageObservationModel(\n",
    "    hidden_state_size=hidden_state_size,\n",
    "    state_size=state_size,\n",
    "    observation_size=observation_size,\n",
    ").cuda()"
   ]
  },
  {
   "cell_type": "code",
   "execution_count": null,
   "metadata": {},
   "outputs": [],
   "source": [
    "reward_obs_model = RewardModel(\n",
    "    hidden_state_size=hidden_state_size,\n",
    "    state_size=state_size,\n",
    "    hidden_layer_size=hidden_layer_size,\n",
    ").cuda()"
   ]
  },
  {
   "cell_type": "code",
   "execution_count": null,
   "metadata": {},
   "outputs": [],
   "source": [
    "enc_model = ImageEncoderModel(\n",
    "    hidden_state_size=hidden_state_size,\n",
    "    observation_size=observation_size,\n",
    "    state_size=state_size,\n",
    "    hidden_layer_size=hidden_layer_size,\n",
    ").cuda()"
   ]
  },
  {
   "cell_type": "code",
   "execution_count": null,
   "metadata": {},
   "outputs": [],
   "source": [
    "models = {\n",
    "    \"det_state_model\": det_state_model,\n",
    "    \"stoch_state_model\": stoch_state_model,\n",
    "    \"obs_model\": obs_model,\n",
    "    \"reward_obs_model\": reward_obs_model,\n",
    "    \"enc_model\": enc_model,\n",
    "}\n",
    "\n",
    "\n",
    "lr = 1e-3\n",
    "eps = 1e-4\n",
    "optimizers = {\n",
    "    \"all_params\": optim.Adam(\n",
    "        list(det_state_model.parameters()) + \n",
    "        list(stoch_state_model.parameters()) + \n",
    "        list(obs_model.parameters()) + \n",
    "        list(reward_obs_model.parameters()) + \n",
    "        list(enc_model.parameters()), \n",
    "        lr=lr, \n",
    "        eps=eps\n",
    "    ),\n",
    "}\n",
    "\n"
   ]
  },
  {
   "cell_type": "code",
   "execution_count": null,
   "metadata": {},
   "outputs": [],
   "source": [
    "trainer = PlanetTrainer(\n",
    "    models=models,\n",
    "    optimizers=optimizers,\n",
    "    config={\n",
    "        \"env_config\": env_config,\n",
    "        \"train_config\": {\n",
    "            \"S\": 5,\n",
    "            \"train_steps\": 100000,\n",
    "            \"C\": 100,\n",
    "            \"B\": 50,\n",
    "            \"L\": 50,\n",
    "            \"H\": 12,\n",
    "            \"I\": 10,\n",
    "            \"J\": 1000,\n",
    "            \"K\": 100,\n",
    "            \"log_interval\": 1,\n",
    "            \"action_noise\": 0.3,\n",
    "            \"free_nats\": 3.0,\n",
    "            \"checkpoint_dir\": \"checkpoints\",\n",
    "        },\n",
    "        \"state_config\": {\n",
    "            \"hidden_state_size\": hidden_state_size,\n",
    "            \"state_size\": state_size,\n",
    "            \"action_size\": action_size,\n",
    "        },\n",
    "        \"eval_config\": {\n",
    "            \"eval_interval\": 10,\n",
    "            \"num_eval_episodes\": 10,\n",
    "        }\n",
    "    }\n",
    ")"
   ]
  },
  {
   "cell_type": "code",
   "execution_count": 12,
   "metadata": {},
   "outputs": [],
   "source": [
    "trainer.fit()"
   ]
  },
  {
   "cell_type": "code",
   "execution_count": null,
   "metadata": {},
   "outputs": [],
   "source": []
  }
 ],
 "metadata": {
  "kernelspec": {
   "display_name": "rl",
   "language": "python",
   "name": "python3"
  },
  "language_info": {
   "codemirror_mode": {
    "name": "ipython",
    "version": 3
   },
   "file_extension": ".py",
   "mimetype": "text/x-python",
   "name": "python",
   "nbconvert_exporter": "python",
   "pygments_lexer": "ipython3",
   "version": "3.10.14"
  }
 },
 "nbformat": 4,
 "nbformat_minor": 2
}
