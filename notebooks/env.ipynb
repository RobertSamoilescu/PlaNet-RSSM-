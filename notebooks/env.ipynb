{
 "cells": [
  {
   "cell_type": "code",
   "execution_count": 1,
   "metadata": {},
   "outputs": [
    {
     "name": "stdout",
     "output_type": "stream",
     "text": [
      "7.081447400492573e-05 1.0 OrderedDict([('pixels', array([[[ 39,  56,  72],\n",
      "        [ 35,  52,  69],\n",
      "        [ 35,  52,  69],\n",
      "        ...,\n",
      "        [ 36,  53,  70],\n",
      "        [ 37,  54,  70],\n",
      "        [ 37,  54,  71]],\n",
      "\n",
      "       [[ 35,  52,  69],\n",
      "        [ 34,  51,  68],\n",
      "        [ 34,  51,  68],\n",
      "        ...,\n",
      "        [ 42,  58,  74],\n",
      "        [ 43,  59,  75],\n",
      "        [ 48,  64,  79]],\n",
      "\n",
      "       [[ 35,  51,  68],\n",
      "        [ 34,  50,  67],\n",
      "        [ 36,  52,  69],\n",
      "        ...,\n",
      "        [ 34,  50,  67],\n",
      "        [ 39,  55,  71],\n",
      "        [ 35,  52,  69]],\n",
      "\n",
      "       ...,\n",
      "\n",
      "       [[ 40,  70,  99],\n",
      "        [ 40,  71, 100],\n",
      "        [ 40,  71, 101],\n",
      "        ...,\n",
      "        [ 49,  80, 110],\n",
      "        [ 49,  79, 110],\n",
      "        [ 48,  79, 109]],\n",
      "\n",
      "       [[ 57,  86, 117],\n",
      "        [ 57,  88, 118],\n",
      "        [ 58,  87, 118],\n",
      "        ...,\n",
      "        [ 33,  64,  93],\n",
      "        [ 32,  62,  91],\n",
      "        [ 31,  62,  91]],\n",
      "\n",
      "       [[ 59,  88, 118],\n",
      "        [ 59,  89, 119],\n",
      "        [ 58,  88, 118],\n",
      "        ...,\n",
      "        [ 32,  62,  91],\n",
      "        [ 30,  60,  90],\n",
      "        [ 30,  60,  89]]], dtype=uint8))])\n"
     ]
    }
   ],
   "source": [
    "import os\n",
    "os.environ[\"MUJOCO_GL\"] = \"egl\"\n",
    "\n",
    "from dm_control import suite\n",
    "from dm_control.suite.wrappers import pixels\n",
    "import numpy as np\n",
    "\n",
    "\n",
    "\n",
    "# Load one task:\n",
    "env = suite.load(domain_name=\"cartpole\", task_name=\"swingup\")\n",
    "env = pixels.Wrapper(env, render_kwargs={'width': 64, 'height': 64})\n",
    "\n",
    "# Step through an episode and print out reward, discount and observation.\n",
    "action_spec = env.action_spec()\n",
    "time_step = env.reset()\n",
    "while not time_step.last():\n",
    "  action = np.random.uniform(action_spec.minimum,\n",
    "                             action_spec.maximum,\n",
    "                             size=action_spec.shape)\n",
    "  time_step = env.step(action)\n",
    "  print(time_step.reward, time_step.discount, time_step.observation)\n",
    "  break"
   ]
  },
  {
   "cell_type": "code",
   "execution_count": 2,
   "metadata": {},
   "outputs": [],
   "source": [
    "def preprocess_obs(obs, bit_depth=5):\n",
    "    \"\"\"\n",
    "    Reduces the bit depth of image for the ease of training\n",
    "    and convert to [-0.5, 0.5]\n",
    "    In addition, add uniform random noise same as original implementation\n",
    "    \"\"\"\n",
    "    obs = obs.astype(np.float32)\n",
    "    reduced_obs = np.floor(obs / 2 ** (8 - bit_depth))\n",
    "    normalized_obs = reduced_obs / 2**bit_depth - 0.5\n",
    "    normalized_obs += np.random.uniform(0.0, 1.0 / 2**bit_depth, normalized_obs.shape)\n",
    "    return normalized_obs"
   ]
  },
  {
   "cell_type": "code",
   "execution_count": 3,
   "metadata": {},
   "outputs": [],
   "source": [
    "x = preprocess_obs(time_step.observation['pixels']) "
   ]
  },
  {
   "cell_type": "code",
   "execution_count": null,
   "metadata": {},
   "outputs": [],
   "source": []
  },
  {
   "cell_type": "code",
   "execution_count": 4,
   "metadata": {},
   "outputs": [],
   "source": [
    "from planet.models.encoder import ImageEncoderModel\n",
    "model = ImageEncoderModel(\n",
    "    hidden_state_size=32,\n",
    "    observation_size=32,\n",
    "    state_size=32,\n",
    "    hidden_layer_size=128,\n",
    "    in_channels=3,\n",
    ")"
   ]
  },
  {
   "cell_type": "code",
   "execution_count": 5,
   "metadata": {},
   "outputs": [],
   "source": [
    "import torch\n",
    "hidden_state = torch.Tensor(np.zeros((1, 32)))\n",
    "observation = torch.Tensor(x).permute((2, 0, 1)).unsqueeze(0)"
   ]
  },
  {
   "cell_type": "code",
   "execution_count": 6,
   "metadata": {},
   "outputs": [
    {
     "data": {
      "text/plain": [
       "(torch.Size([1, 32]), torch.Size([1, 3, 64, 64]))"
      ]
     },
     "execution_count": 6,
     "metadata": {},
     "output_type": "execute_result"
    }
   ],
   "source": [
    "hidden_state.shape, observation.shape"
   ]
  },
  {
   "cell_type": "code",
   "execution_count": 8,
   "metadata": {},
   "outputs": [],
   "source": [
    "a, b = model(hidden_state, observation)"
   ]
  },
  {
   "cell_type": "code",
   "execution_count": 9,
   "metadata": {},
   "outputs": [
    {
     "data": {
      "text/plain": [
       "(torch.Size([1, 32]), torch.Size([1, 32]))"
      ]
     },
     "execution_count": 9,
     "metadata": {},
     "output_type": "execute_result"
    }
   ],
   "source": [
    "a.shape, b.shape"
   ]
  },
  {
   "cell_type": "code",
   "execution_count": null,
   "metadata": {},
   "outputs": [],
   "source": []
  }
 ],
 "metadata": {
  "kernelspec": {
   "display_name": "planet",
   "language": "python",
   "name": "python3"
  },
  "language_info": {
   "codemirror_mode": {
    "name": "ipython",
    "version": 3
   },
   "file_extension": ".py",
   "mimetype": "text/x-python",
   "name": "python",
   "nbconvert_exporter": "python",
   "pygments_lexer": "ipython3",
   "version": "3.10.14"
  }
 },
 "nbformat": 4,
 "nbformat_minor": 2
}
